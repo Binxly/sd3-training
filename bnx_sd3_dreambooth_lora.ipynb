{
 "cells": [
  {
   "cell_type": "code",
   "execution_count": null,
   "id": "34e053af-5746-4e64-81fd-fa8a028bfb8f",
   "metadata": {},
   "outputs": [],
   "source": [
    "#blaghh\n",
    "!rm -rf diffusers"
   ]
  },
  {
   "cell_type": "markdown",
   "id": "739ec9fe",
   "metadata": {},
   "source": [
    "# Clone the diffusers repository"
   ]
  },
  {
   "cell_type": "code",
   "execution_count": null,
   "id": "27beba7c-eb60-41a0-9e6c-c322a769e270",
   "metadata": {
    "scrolled": true
   },
   "outputs": [],
   "source": [
    "!git clone https://github.com/huggingface/diffusers\n",
    "!cd diffusers && pip install -e .\n",
    "!pip install wandb bitsandbytes huggingface_hub sentencepiece \"peft>=0.6.0\""
   ]
  },
  {
   "cell_type": "markdown",
   "id": "dca174a6",
   "metadata": {},
   "source": [
    "# Configuration and Dataset Download"
   ]
  },
  {
   "cell_type": "code",
   "execution_count": null,
   "id": "4e823928-d750-43b1-aa8a-4705d2159140",
   "metadata": {
    "scrolled": true
   },
   "outputs": [],
   "source": [
    "!cd diffusers/examples/dreambooth && pip install -r requirements_sd3.txt\n",
    "!accelerate config default\n",
    "\n",
    "from huggingface_hub import snapshot_download\n",
    "\n",
    "local_dir = \"./dog\"\n",
    "snapshot_download(\n",
    "    \"diffusers/dog-example\",\n",
    "    local_dir=local_dir, repo_type=\"dataset\",\n",
    "    ignore_patterns=\".gitattributes\",\n",
    ")\n",
    "!rm -rf dog/.huggingface"
   ]
  },
  {
   "cell_type": "markdown",
   "id": "2965c646",
   "metadata": {},
   "source": [
    "# HuggingFace and Env Setup"
   ]
  },
  {
   "cell_type": "code",
   "execution_count": null,
   "id": "b92c88a2-78c5-4ae4-85cf-06e9d11bdbe8",
   "metadata": {},
   "outputs": [],
   "source": [
    "from huggingface_hub import login, logout\n",
    "\n",
    "login(\"[YOUR_HUGGINGFACE_API_KEY_HERE]\") # CHANGE ME\n",
    "\n",
    "# Set environment variables\n",
    "import os\n",
    "\n",
    "os.environ[\"MODEL_NAME\"] = \"stabilityai/stable-diffusion-3-medium-diffusers\"\n",
    "os.environ[\"INSTANCE_DIR\"] = \"dog\" # dataset dir\n",
    "os.environ[\"OUTPUT_DIR\"] = \"trained-sd3-lora\" # name output if needed\n",
    "print(\"done\")"
   ]
  },
  {
   "cell_type": "code",
   "execution_count": null,
   "id": "bbd4b955-0eb8-4133-897c-e745ebb4ca02",
   "metadata": {},
   "outputs": [],
   "source": [
    "#blargh oof ouch ugh urrgh\n",
    "!rm -rf dog/.huggingface"
   ]
  },
  {
   "cell_type": "markdown",
   "id": "0286212b",
   "metadata": {},
   "source": [
    "# Training"
   ]
  },
  {
   "cell_type": "code",
   "execution_count": null,
   "id": "52039e91-072e-433d-9c28-de681af43ee1",
   "metadata": {
    "scrolled": true
   },
   "outputs": [],
   "source": [
    "# zzz\n",
    "from IPython.core.interactiveshell import InteractiveShell\n",
    "InteractiveShell.ast_node_interactivity = \"all\"\n",
    "\n",
    "!accelerate launch diffusers/examples/dreambooth/train_dreambooth_lora_sd3.py \\\n",
    "  --pretrained_model_name_or_path=$MODEL_NAME  \\\n",
    "  --instance_data_dir=$INSTANCE_DIR \\\n",
    "  --output_dir=$OUTPUT_DIR \\\n",
    "  --mixed_precision=\"fp16\" \\\n",
    "  --instance_prompt=\"a photo of sks dog\" \\\n",
    "  --resolution=512 \\\n",
    "  --train_batch_size=1 \\\n",
    "  --gradient_accumulation_steps=4 \\\n",
    "  --learning_rate=1e-5 \\\n",
    "  --lr_scheduler=\"constant\" \\\n",
    "  --lr_warmup_steps=0 \\\n",
    "  --max_train_steps=500 \\\n",
    "  --validation_prompt=\"A photo of sks dog in a bucket\" \\\n",
    "  --validation_epochs=25 \\\n",
    "  --seed=\"0\" \\\n",
    "  --use_8bit_adam\n",
    "  #--push_to_hub # remove comment to push model to huggingface account"
   ]
  }
 ],
 "metadata": {
  "kernelspec": {
   "display_name": "Python 3 (ipykernel)",
   "language": "python",
   "name": "python3"
  },
  "language_info": {
   "codemirror_mode": {
    "name": "ipython",
    "version": 3
   },
   "file_extension": ".py",
   "mimetype": "text/x-python",
   "name": "python",
   "nbconvert_exporter": "python",
   "pygments_lexer": "ipython3",
   "version": "3.10.12"
  }
 },
 "nbformat": 4,
 "nbformat_minor": 5
}
